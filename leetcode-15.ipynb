{
 "cells": [
  {
   "cell_type": "code",
   "execution_count": 7,
   "id": "69ae8901-235b-4217-adde-8cedfef428d7",
   "metadata": {},
   "outputs": [
    {
     "data": {
      "text/plain": [
       "{(-1, -1, 2), (-1, 0, 1)}"
      ]
     },
     "execution_count": 7,
     "metadata": {},
     "output_type": "execute_result"
    }
   ],
   "source": [
    "nums = [-1,0,1,2,-1,-4]\n",
    "def threeSum(nums):\n",
    "    my_set = set()\n",
    "    for i in range(0, len(nums)):\n",
    "        for j in range(i+1, len(nums)):\n",
    "            for k in range(j+1, len(nums)):\n",
    "                if nums[i]+nums[j]+nums[k] == 0:\n",
    "                    #print(nums[i], nums[j], nums[k])\n",
    "                    list= [nums[i], nums[j], nums[k]]\n",
    "                    list.sort()\n",
    "                    my_set.add(tuple(list))\n",
    "    return my_set\n",
    "\n",
    "threeSum(nums)"
   ]
  },
  {
   "cell_type": "code",
   "execution_count": 15,
   "id": "4d2f1d23-eaa1-48fa-8e00-658f33d11924",
   "metadata": {},
   "outputs": [],
   "source": [
    "def threeSum(nums):\n",
    "    nums.sort()\n",
    "    lst = set()\n",
    "    n = len(nums)\n",
    "    for i in range(n-2):\n",
    "        start = i+1\n",
    "        end = n-1\n",
    "        while(start<end):\n",
    "            if(nums[i]+nums[start]+nums[end]==0):\n",
    "                lst.add((nums[i],nums[start],nums[end]))\n",
    "                end-=1\n",
    "            elif(nums[i]+nums[start]+nums[end]>0):\n",
    "                end-=1\n",
    "            else:\n",
    "                start+=1\n",
    "    return lst"
   ]
  },
  {
   "cell_type": "code",
   "execution_count": 16,
   "id": "58a1d7d4-1152-4cdb-b2db-5da792368c22",
   "metadata": {},
   "outputs": [
    {
     "data": {
      "text/plain": [
       "{(-1, -1, 2), (-1, 0, 1)}"
      ]
     },
     "execution_count": 16,
     "metadata": {},
     "output_type": "execute_result"
    }
   ],
   "source": [
    "threeSum(nums)"
   ]
  },
  {
   "cell_type": "code",
   "execution_count": null,
   "id": "754558b0-07e9-4ecf-88c7-3b53929bf5d7",
   "metadata": {},
   "outputs": [],
   "source": []
  }
 ],
 "metadata": {
  "kernelspec": {
   "display_name": "Python 3 (ipykernel)",
   "language": "python",
   "name": "python3"
  },
  "language_info": {
   "codemirror_mode": {
    "name": "ipython",
    "version": 3
   },
   "file_extension": ".py",
   "mimetype": "text/x-python",
   "name": "python",
   "nbconvert_exporter": "python",
   "pygments_lexer": "ipython3",
   "version": "3.11.7"
  }
 },
 "nbformat": 4,
 "nbformat_minor": 5
}
